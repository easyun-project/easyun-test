{
 "cells": [
  {
   "cell_type": "code",
   "execution_count": 4,
   "id": "979f4943",
   "metadata": {},
   "outputs": [
    {
     "name": "stdout",
     "output_type": "stream",
     "text": [
      "amplify-amplify2799b35d0ae94-staging-80616-deployment\n",
      "bktexample17\n",
      "bktexample19lyc\n",
      "cdktoolkit-stagingbucket-1254ykp5179br\n",
      "cloudtrail-awslogs-565521294060-kcuknl7c-isengard-do-not-delete\n",
      "do-not-delete-gatedgarden-audit-565521294060\n",
      "elasticbeanstalk-ap-southeast-1-565521294060\n",
      "imgstore779180616-staging\n",
      "pvre-patching-logs-565521294060-ap-northeast-1\n",
      "pvre-patching-logs-565521294060-ap-northeast-2\n",
      "pvre-patching-logs-565521294060-ap-southeast-1\n",
      "pvre-patching-logs-565521294060-us-east-1\n",
      "pvre-patching-logs-565521294060-us-west-1\n",
      "ssm-onboarding-bucket-565521294060-ap-northeast-1\n",
      "ssm-onboarding-bucket-565521294060-ap-northeast-2\n",
      "ssm-onboarding-bucket-565521294060-ap-southeast-1\n",
      "ssm-onboarding-bucket-565521294060-us-east-1\n",
      "ssm-onboarding-bucket-565521294060-us-west-1\n"
     ]
    }
   ],
   "source": [
    "# 查询所有的 bucket 名称\n",
    "\n",
    "import boto3\n",
    "\n",
    "s3 = boto3.resource(\"s3\")\n",
    "\n",
    "#  boto 会自动处理 API 的翻页等信息。\n",
    "for bucket in s3.buckets.all():\n",
    "    print(bucket.name)"
   ]
  },
  {
   "cell_type": "code",
   "execution_count": 3,
   "id": "f92d4a25",
   "metadata": {},
   "outputs": [
    {
     "name": "stdout",
     "output_type": "stream",
     "text": [
      "bktexample19lyc\n"
     ]
    }
   ],
   "source": [
    "# 创建新的s3 存储桶\n",
    "import boto3\n",
    "\n",
    "s3 = boto3.resource(\"s3\")\n",
    "\n",
    "# 定义参数\n",
    "new_bucket = s3.create_bucket(Bucket=\"bktexample19lyc\")\n",
    "print(new_bucket.name)"
   ]
  },
  {
   "cell_type": "code",
   "execution_count": 5,
   "id": "aade8e3a",
   "metadata": {},
   "outputs": [
    {
     "name": "stdout",
     "output_type": "stream",
     "text": [
      "bktexample19lyc, deleted\n"
     ]
    }
   ],
   "source": [
    "# 删除指定名称的s3 存储桶\n",
    "import boto3\n",
    "\n",
    "s3 = boto3.resource(\"s3\")\n",
    "\n",
    "bucket = s3.Bucket(\"bktexample19lyc\")\n",
    "bucket.delete()\n",
    "\n",
    "print(bucket.name + ', deleted')"
   ]
  },
  {
   "cell_type": "code",
   "execution_count": null,
   "id": "57d18458",
   "metadata": {},
   "outputs": [],
   "source": []
  }
 ],
 "metadata": {
  "kernelspec": {
   "display_name": "Python 3 (ipykernel)",
   "language": "python",
   "name": "python3"
  },
  "language_info": {
   "codemirror_mode": {
    "name": "ipython",
    "version": 3
   },
   "file_extension": ".py",
   "mimetype": "text/x-python",
   "name": "python",
   "nbconvert_exporter": "python",
   "pygments_lexer": "ipython3",
   "version": "3.7.10"
  }
 },
 "nbformat": 4,
 "nbformat_minor": 5
}
