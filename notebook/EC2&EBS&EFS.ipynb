{
 "cells": [
  {
   "cell_type": "markdown",
   "metadata": {},
   "source": [
    "# This is a demo of the features of AWS Boto3 SDK for EC2\n",
    "In this demo we show\n",
    "\n",
    "1. how to look at the status of our current instances\n",
    "2. how to create new instances\n",
    "3. how to stop and delete them\n",
    "4. how to attach an EBS volume to an instance\n",
    "5. how to attach an NFS volume to an instance\n",
    "\n",
    "Items 4 and 5 require access to ssh, so this won't run on Windows, but it works fine on the Mac and Linux.\n",
    "\n",
    "there are a bunch of instance ids and volume ids here, but they have been deleted.  you will need to create your own.\n"
   ]
  },
  {
   "cell_type": "code",
   "execution_count": 1,
   "metadata": {
    "collapsed": true
   },
   "outputs": [],
   "source": [
    "import boto3"
   ]
  },
  {
   "cell_type": "markdown",
   "metadata": {
    "collapsed": false
   },
   "source": [
    "## creating an instance\n",
    "first you need you aws_access_key_id and secret_access_key that were created when you created your account"
   ]
  },
  {
   "cell_type": "code",
   "execution_count": 2,
   "metadata": {
    "collapsed": false
   },
   "outputs": [],
   "source": [
    "ec2 = boto3.resource('ec2', 'us-west-2',\n",
    "        aws_access_key_id = 'your access key',\n",
    "        aws_secret_access_key = 'your big long secret key')"
   ]
  },
  {
   "cell_type": "markdown",
   "metadata": {},
   "source": [
    "The following function is a handy way to see the status of your instances"
   ]
  },
  {
   "cell_type": "code",
   "execution_count": 3,
   "metadata": {
    "collapsed": false
   },
   "outputs": [],
   "source": [
    "def show_instance(status):\n",
    "    instances = ec2.instances.filter(\n",
    "        Filters=[{'Name': 'instance-state-name', 'Values': [status]}])\n",
    "    for instance in instances:\n",
    "        print(instance.id, instance.instance_type, instance.image_id, instance.public_ip_address)"
   ]
  },
  {
   "cell_type": "code",
   "execution_count": 4,
   "metadata": {
    "collapsed": false
   },
   "outputs": [
    {
     "name": "stdout",
     "output_type": "stream",
     "text": [
      "('i-0ccfc93aaf3e0305c', 't2.large', 'ami-d0f506b0', None)\n",
      "('i-024a5f16ce5b1ed02', 't2.medium', 'ami-7172b611', None)\n"
     ]
    }
   ],
   "source": [
    "show_instance('stopped')"
   ]
  },
  {
   "cell_type": "markdown",
   "metadata": {},
   "source": [
    "this will start a stopped instance"
   ]
  },
  {
   "cell_type": "code",
   "execution_count": 5,
   "metadata": {
    "collapsed": false
   },
   "outputs": [
    {
     "data": {
      "text/plain": [
       "[{'ResponseMetadata': {'HTTPHeaders': {'content-type': 'text/xml;charset=UTF-8',\n",
       "    'date': 'Fri, 23 Sep 2016 19:10:42 GMT',\n",
       "    'server': 'AmazonEC2',\n",
       "    'transfer-encoding': 'chunked',\n",
       "    'vary': 'Accept-Encoding'},\n",
       "   'HTTPStatusCode': 200,\n",
       "   'RequestId': '1e3521ef-bc44-42c2-9261-b7528e071967',\n",
       "   'RetryAttempts': 0},\n",
       "  u'StartingInstances': [{u'CurrentState': {u'Code': 0, u'Name': 'pending'},\n",
       "    u'InstanceId': 'i-0ccfc93aaf3e0305c',\n",
       "    u'PreviousState': {u'Code': 80, u'Name': 'stopped'}}]}]"
      ]
     },
     "execution_count": 5,
     "metadata": {},
     "output_type": "execute_result"
    }
   ],
   "source": [
    "ec2.instances.filter(InstanceIds=['i-0ccfc93aaf3e0305c']).start()"
   ]
  },
  {
   "cell_type": "code",
   "execution_count": 6,
   "metadata": {
    "collapsed": false
   },
   "outputs": [
    {
     "name": "stdout",
     "output_type": "stream",
     "text": [
      "('i-0ccfc93aaf3e0305c', 't2.large', 'ami-d0f506b0', '54.200.245.49')\n",
      "('i-0a184b56b0ebdba98', 't2.micro', 'ami-7172b611', '54.187.61.12')\n"
     ]
    }
   ],
   "source": [
    "show_instance('running')"
   ]
  },
  {
   "cell_type": "markdown",
   "metadata": {
    "collapsed": false
   },
   "source": [
    "This is how you can stop and terminate an instance.   "
   ]
  },
  {
   "cell_type": "code",
   "execution_count": 9,
   "metadata": {
    "collapsed": false
   },
   "outputs": [
    {
     "data": {
      "text/plain": [
       "[{'ResponseMetadata': {'HTTPHeaders': {'content-type': 'text/xml;charset=UTF-8',\n",
       "    'date': 'Fri, 23 Sep 2016 19:14:39 GMT',\n",
       "    'server': 'AmazonEC2',\n",
       "    'transfer-encoding': 'chunked',\n",
       "    'vary': 'Accept-Encoding'},\n",
       "   'HTTPStatusCode': 200,\n",
       "   'RequestId': '7092e9ac-8cf3-4d0c-87b8-556fedcfc459',\n",
       "   'RetryAttempts': 0},\n",
       "  u'StoppingInstances': [{u'CurrentState': {u'Code': 64, u'Name': 'stopping'},\n",
       "    u'InstanceId': 'i-0ccfc93aaf3e0305c',\n",
       "    u'PreviousState': {u'Code': 16, u'Name': 'running'}}]}]"
      ]
     },
     "execution_count": 9,
     "metadata": {},
     "output_type": "execute_result"
    }
   ],
   "source": [
    "stoplist = ['i-0ccfc93aaf3e0305c']\n",
    "ec2.instances.filter(InstanceIds=stoplist).stop()"
   ]
  },
  {
   "cell_type": "markdown",
   "metadata": {
    "collapsed": false
   },
   "source": [
    "if i want to permanently delete an instance i can terminate it with\n",
    "\n",
    "ec2.instances.filter(InstanceIds=terminatelist).terminate()"
   ]
  },
  {
   "cell_type": "markdown",
   "metadata": {},
   "source": [
    "## To create an instance you need a keypair.  \n",
    "This is easiest to do from the portal\n",
    "assuming you have a keypair called escience1 here is the way to create an instance.\n",
    "\n",
    "In this case we are using MaxCount = 1.   If we had MaxCount = 5 it will try to create 5 instances for us.\n"
   ]
  },
  {
   "cell_type": "code",
   "execution_count": 10,
   "metadata": {
    "collapsed": false
   },
   "outputs": [
    {
     "data": {
      "text/plain": [
       "[ec2.Instance(id='i-0775b0a28a1be4ed0')]"
      ]
     },
     "execution_count": 10,
     "metadata": {},
     "output_type": "execute_result"
    }
   ],
   "source": [
    "ec2.create_instances(ImageId='ami-7172b611', InstanceType='t2.micro', KeyName='escience1', MinCount=1, MaxCount=1)"
   ]
  },
  {
   "cell_type": "code",
   "execution_count": 11,
   "metadata": {
    "collapsed": false
   },
   "outputs": [
    {
     "name": "stdout",
     "output_type": "stream",
     "text": [
      "('i-0775b0a28a1be4ed0', 't2.micro', 'ami-7172b611', '54.191.29.148')\n",
      "('i-0a184b56b0ebdba98', 't2.micro', 'ami-7172b611', '54.187.61.12')\n"
     ]
    }
   ],
   "source": [
    "show_instance('running')"
   ]
  },
  {
   "cell_type": "code",
   "execution_count": 12,
   "metadata": {
    "collapsed": true
   },
   "outputs": [],
   "source": [
    "import subprocess\n",
    "import sys"
   ]
  },
  {
   "cell_type": "code",
   "execution_count": 15,
   "metadata": {
    "collapsed": false
   },
   "outputs": [
    {
     "name": "stdout",
     "output_type": "stream",
     "text": [
      "('vol-05731419e6abb49a9', 8, 'in-use')\n",
      "('vol-032807a231219af70', 8, 'in-use')\n",
      "('vol-0bdd0584d0833e691', 20, 'available')\n",
      "('vol-07ce6f03c1a13d5a7', 100, 'in-use')\n",
      "('vol-0ce3df91d4d2e07e0', 8, 'in-use')\n",
      "('vol-0fc1ff8711cd0eac4', 8, 'in-use')\n"
     ]
    }
   ],
   "source": [
    "vols = ec2.volumes.filter(\n",
    "     Filters=[])\n",
    "for vol in vols:\n",
    "    print(vol.id, vol.size, vol.state)"
   ]
  },
  {
   "cell_type": "markdown",
   "metadata": {},
   "source": [
    "To attach the volume to an instance we first create a volume object and then attach it to an instance.\n",
    "\n",
    "It is important to note that the volume and the instance must be in the same availability zone."
   ]
  },
  {
   "cell_type": "code",
   "execution_count": 18,
   "metadata": {
    "collapsed": true
   },
   "outputs": [],
   "source": [
    "vol = ec2.Volume('vol-0bdd0584d0833e691')"
   ]
  },
  {
   "cell_type": "code",
   "execution_count": 20,
   "metadata": {
    "collapsed": false
   },
   "outputs": [
    {
     "data": {
      "text/plain": [
       "{u'AttachTime': datetime.datetime(2016, 9, 23, 20, 49, 39, 637000, tzinfo=tzutc()),\n",
       " u'Device': '/dev/xvdh',\n",
       " u'InstanceId': 'i-0a184b56b0ebdba98',\n",
       " 'ResponseMetadata': {'HTTPHeaders': {'content-type': 'text/xml;charset=UTF-8',\n",
       "   'date': 'Fri, 23 Sep 2016 20:49:38 GMT',\n",
       "   'server': 'AmazonEC2',\n",
       "   'transfer-encoding': 'chunked',\n",
       "   'vary': 'Accept-Encoding'},\n",
       "  'HTTPStatusCode': 200,\n",
       "  'RequestId': '085a8a8e-5296-4912-969a-2fe1c05809bc',\n",
       "  'RetryAttempts': 0},\n",
       " u'State': 'attaching',\n",
       " u'VolumeId': 'vol-0bdd0584d0833e691'}"
      ]
     },
     "execution_count": 20,
     "metadata": {},
     "output_type": "execute_result"
    }
   ],
   "source": [
    "vol.attach_to_instance(\n",
    "    InstanceId='i-0a184b56b0ebdba98',\n",
    "    Device='/dev/xvdh'\n",
    ")"
   ]
  },
  {
   "cell_type": "markdown",
   "metadata": {
    "collapsed": false
   },
   "source": [
    "## Mounting the new volume on an instance\n",
    "Mounting a volume on a file system cannot be done with boto3 directly because the mount commands must be executed by the operating system.   However we can use SSH to connect to the instance and execute the commands remotely. \n",
    "\n",
    "The following function uses Python to create a subprocess to invoke ssh.  Unfortunately this will only work on Linux or the Mac OS, because SSH is not a regular shell command for Windows.   What follows was executed on a Mac."
   ]
  },
  {
   "cell_type": "code",
   "execution_count": 21,
   "metadata": {
    "collapsed": false
   },
   "outputs": [],
   "source": [
    "def myexec( pathtopem, hostip, commands):\n",
    "        ssh = subprocess.Popen(['ssh', '-i', pathtopem, 'ec2-user@%s'%hostip, commands ],\n",
    "                       shell=False,\n",
    "                       stdout=subprocess.PIPE,\n",
    "                       stderr=subprocess.PIPE)\n",
    "        result = ssh.stdout.readlines()\n",
    "        if result == []:\n",
    "                error = ssh.stderr.readlines()\n",
    "                print >>sys.stderr, \"ERROR: %s\" % error\n",
    "                return \"error\"\n",
    "        else:\n",
    "                return result"
   ]
  },
  {
   "cell_type": "markdown",
   "metadata": {},
   "source": [
    "Before we can mount the volume we must make sure it has a file system.  Then we can create a directory at the root called \"/data\" as the mount point.  then we do the mount and run a \"df\" to see if it is there.  we will need our private key to accomplish this."
   ]
  },
  {
   "cell_type": "code",
   "execution_count": 60,
   "metadata": {
    "collapsed": true
   },
   "outputs": [],
   "source": [
    "priv_key = 'path-to-your-secret-key.pem'"
   ]
  },
  {
   "cell_type": "code",
   "execution_count": 22,
   "metadata": {
    "collapsed": true
   },
   "outputs": [],
   "source": [
    "command = 'sudo mkfs -t ext3 /dev/xvdh\\n \\\n",
    "           sudo mkdir /data\\n \\\n",
    "           sudo mount /dev/xvdh /data\\n \\\n",
    "           df\\n'"
   ]
  },
  {
   "cell_type": "code",
   "execution_count": 23,
   "metadata": {
    "collapsed": false
   },
   "outputs": [
    {
     "data": {
      "text/plain": [
       "['Filesystem     1K-blocks    Used Available Use% Mounted on\\n',\n",
       " '/dev/xvda1       8123812 1211172   6812392  16% /\\n',\n",
       " 'devtmpfs          501092      60    501032   1% /dev\\n',\n",
       " 'tmpfs             509668       0    509668   0% /dev/shm\\n',\n",
       " '/dev/xvdh       20511356   45128  19417652   1% /data\\n']"
      ]
     },
     "execution_count": 23,
     "metadata": {},
     "output_type": "execute_result"
    }
   ],
   "source": [
    "myexec(priv_key, '54.187.61.12', command)"
   ]
  },
  {
   "cell_type": "markdown",
   "metadata": {},
   "source": [
    "As you can see our 20G volume is now available as \"/data\".  Let's double check"
   ]
  },
  {
   "cell_type": "code",
   "execution_count": 24,
   "metadata": {
    "collapsed": false
   },
   "outputs": [
    {
     "name": "stdout",
     "output_type": "stream",
     "text": [
      "('vol-05731419e6abb49a9', 8, 'in-use')\n",
      "('vol-032807a231219af70', 8, 'in-use')\n",
      "('vol-0bdd0584d0833e691', 20, 'in-use')\n",
      "('vol-07ce6f03c1a13d5a7', 100, 'in-use')\n",
      "('vol-0ce3df91d4d2e07e0', 8, 'in-use')\n",
      "('vol-0fc1ff8711cd0eac4', 8, 'in-use')\n"
     ]
    }
   ],
   "source": [
    "vols = ec2.volumes.filter(\n",
    "     Filters=[])\n",
    "for vol in vols:\n",
    "    print(vol.id, vol.size, vol.state)"
   ]
  },
  {
   "cell_type": "markdown",
   "metadata": {},
   "source": [
    "Now let's make a subdirectory for user ec2-user called mydata and create a file."
   ]
  },
  {
   "cell_type": "code",
   "execution_count": null,
   "metadata": {
    "collapsed": true
   },
   "outputs": [],
   "source": [
    "command = 'cd /data\\n \\\n",
    "           sudo mkdir mydata\\n \\\n",
    "           sudo chown ec2-user mydata\\n \\\n",
    "           cd mydata\\n \\\n",
    "           touch filex\\n \\\n",
    "           ls -l\\n'"
   ]
  },
  {
   "cell_type": "code",
   "execution_count": 26,
   "metadata": {
    "collapsed": false
   },
   "outputs": [
    {
     "data": {
      "text/plain": [
       "['total 0\\n', '-rw-rw-r-- 1 ec2-user ec2-user 0 Sep 23 20:51 filex\\n']"
      ]
     },
     "execution_count": 26,
     "metadata": {},
     "output_type": "execute_result"
    }
   ],
   "source": [
    "myexec(priv_key, '54.187.61.12', command)"
   ]
  },
  {
   "cell_type": "markdown",
   "metadata": {
    "collapsed": false
   },
   "source": [
    "## mounting an NFS file system.\n",
    "EBS volumes can only be mounted on one instance at a time, though they can be detached and attached and mounted on other instances. \n",
    "\n",
    "The AWS EC2 Elastic File System (EFS) provides a brilliant way to attach and mount an filesystem that satifies the Networked File System (NFS) standards.\n",
    "\n",
    "We first need to make sure that the instance has the right type of security group.  A security group defines the network protocols.  We need to make sure that we have one in which port 2049 (NFS) is open.\n",
    "\n",
    "We also need to know a few things about the instance i-0a184b56b0ebdba98 which was created from the portal as described in the book text example.   When we created this instance we gave it a special security group \"default\" and we added the NFS 2049 port.   we also need to know the subnet number."
   ]
  },
  {
   "cell_type": "code",
   "execution_count": 55,
   "metadata": {
    "collapsed": false
   },
   "outputs": [
    {
     "name": "stdout",
     "output_type": "stream",
     "text": [
      "('i-0a184b56b0ebdba98', 't2.micro', 'subnet-06e66170', [{u'GroupName': 'default', u'GroupId': 'sg-c67ce2a0'}])\n"
     ]
    }
   ],
   "source": [
    "instances = ec2.instances.filter(\n",
    "    Filters=[{'Name': 'instance-state-name', 'Values': ['running']}])\n",
    "for instance in instances:\n",
    "        print(instance.id, instance.instance_type, instance.subnet_id, instance.security_groups)"
   ]
  },
  {
   "cell_type": "code",
   "execution_count": 56,
   "metadata": {
    "collapsed": true
   },
   "outputs": [],
   "source": [
    "ec2_client = boto3.client('ec2', 'us-west-2',\n",
    "        aws_access_key_id = 'your access key',\n",
    "        aws_secret_access_key = 'your big long secret key')"
   ]
  },
  {
   "cell_type": "code",
   "execution_count": 57,
   "metadata": {
    "collapsed": false
   },
   "outputs": [
    {
     "data": {
      "text/plain": [
       "{'ResponseMetadata': {'HTTPHeaders': {'content-type': 'text/xml;charset=UTF-8',\n",
       "   'date': 'Fri, 23 Sep 2016 22:32:47 GMT',\n",
       "   'server': 'AmazonEC2',\n",
       "   'transfer-encoding': 'chunked',\n",
       "   'vary': 'Accept-Encoding'},\n",
       "  'HTTPStatusCode': 200,\n",
       "  'RequestId': '5acbe7db-579a-444b-8465-2500f55ff78a',\n",
       "  'RetryAttempts': 0},\n",
       " u'SecurityGroups': [{u'Description': 'default VPC security group',\n",
       "   u'GroupId': 'sg-c67ce2a0',\n",
       "   u'GroupName': 'default',\n",
       "   u'IpPermissions': [{u'FromPort': 22,\n",
       "     u'IpProtocol': 'tcp',\n",
       "     u'IpRanges': [{u'CidrIp': '24.16.157.123/32'}],\n",
       "     u'PrefixListIds': [],\n",
       "     u'ToPort': 22,\n",
       "     u'UserIdGroupPairs': []},\n",
       "    {u'FromPort': 2049,\n",
       "     u'IpProtocol': 'tcp',\n",
       "     u'IpRanges': [],\n",
       "     u'PrefixListIds': [],\n",
       "     u'ToPort': 2049,\n",
       "     u'UserIdGroupPairs': [{u'GroupId': 'sg-c67ce2a0',\n",
       "       u'UserId': '066301190734'}]}],\n",
       "   u'IpPermissionsEgress': [{u'IpProtocol': '-1',\n",
       "     u'IpRanges': [{u'CidrIp': '0.0.0.0/0'}],\n",
       "     u'PrefixListIds': [],\n",
       "     u'UserIdGroupPairs': []}],\n",
       "   u'OwnerId': '066301190734',\n",
       "   u'VpcId': 'vpc-d9a3dfbd'}]}"
      ]
     },
     "execution_count": 57,
     "metadata": {},
     "output_type": "execute_result"
    }
   ],
   "source": [
    "ec2_client.describe_security_groups(\n",
    "    GroupNames=[\n",
    "        'default',\n",
    "    ],\n",
    "    GroupIds=[\n",
    "        'sg-c67ce2a0',\n",
    "    ],\n",
    ")"
   ]
  },
  {
   "cell_type": "markdown",
   "metadata": {},
   "source": [
    "we can not start building the EFS file_system.   this requires an efs client.  then we can create the file system"
   ]
  },
  {
   "cell_type": "code",
   "execution_count": 30,
   "metadata": {
    "collapsed": false
   },
   "outputs": [],
   "source": [
    "client = boto3.client('efs','us-west-2',\n",
    "        aws_access_key_id = 'your access key',\n",
    "        aws_secret_access_key = 'your big long secret key')"
   ]
  },
  {
   "cell_type": "code",
   "execution_count": 32,
   "metadata": {
    "collapsed": false
   },
   "outputs": [],
   "source": [
    "response = client.create_file_system(\n",
    "    CreationToken='myefs',\n",
    "    PerformanceMode='generalPurpose'\n",
    ")"
   ]
  },
  {
   "cell_type": "code",
   "execution_count": 33,
   "metadata": {
    "collapsed": false
   },
   "outputs": [
    {
     "data": {
      "text/plain": [
       "{u'CreationTime': datetime.datetime(2016, 9, 23, 14, 34, 41, tzinfo=tzlocal()),\n",
       " u'CreationToken': u'myefs',\n",
       " u'FileSystemId': u'fs-69fe00c0',\n",
       " u'LifeCycleState': u'creating',\n",
       " u'NumberOfMountTargets': 0,\n",
       " u'OwnerId': u'066301190734',\n",
       " u'PerformanceMode': u'generalPurpose',\n",
       " 'ResponseMetadata': {'HTTPHeaders': {'content-length': '251',\n",
       "   'content-type': 'application/json',\n",
       "   'date': 'Fri, 23 Sep 2016 21:34:41 GMT',\n",
       "   'x-amzn-requestid': '894d999c-81d5-11e6-8f18-d920b604e82f'},\n",
       "  'HTTPStatusCode': 201,\n",
       "  'RequestId': '894d999c-81d5-11e6-8f18-d920b604e82f',\n",
       "  'RetryAttempts': 0},\n",
       " u'SizeInBytes': {u'Value': 0}}"
      ]
     },
     "execution_count": 33,
     "metadata": {},
     "output_type": "execute_result"
    }
   ],
   "source": [
    "response"
   ]
  },
  {
   "cell_type": "markdown",
   "metadata": {},
   "source": [
    "Next step we must create a mount target"
   ]
  },
  {
   "cell_type": "code",
   "execution_count": 40,
   "metadata": {
    "collapsed": true
   },
   "outputs": [],
   "source": [
    "mtresp = client.create_mount_target(\n",
    "    FileSystemId='fs-69fe00c0',\n",
    "    SubnetId='subnet-06e66170',\n",
    "    SecurityGroups=[\n",
    "        'sg-c67ce2a0'\n",
    "    ]\n",
    ")"
   ]
  },
  {
   "cell_type": "code",
   "execution_count": 41,
   "metadata": {
    "collapsed": false
   },
   "outputs": [
    {
     "data": {
      "text/plain": [
       "{u'FileSystemId': u'fs-69fe00c0',\n",
       " u'IpAddress': u'172.31.38.128',\n",
       " u'LifeCycleState': u'creating',\n",
       " u'MountTargetId': u'fsmt-ba6d9413',\n",
       " u'NetworkInterfaceId': u'eni-0cda9e42',\n",
       " u'OwnerId': u'066301190734',\n",
       " 'ResponseMetadata': {'HTTPHeaders': {'content-length': '208',\n",
       "   'content-type': 'application/json',\n",
       "   'date': 'Fri, 23 Sep 2016 21:57:00 GMT',\n",
       "   'x-amzn-requestid': 'a70fd33a-81d8-11e6-a3a9-91080f5279cd'},\n",
       "  'HTTPStatusCode': 200,\n",
       "  'RequestId': 'a70fd33a-81d8-11e6-a3a9-91080f5279cd',\n",
       "  'RetryAttempts': 0},\n",
       " u'SubnetId': u'subnet-06e66170'}"
      ]
     },
     "execution_count": 41,
     "metadata": {},
     "output_type": "execute_result"
    }
   ],
   "source": [
    "mtresp"
   ]
  },
  {
   "cell_type": "markdown",
   "metadata": {},
   "source": [
    "### The rest of the install requires shell commands to mount the file system\n",
    "we first must install the nfs utilities.\n",
    "\n",
    "next we create a mount point.  we will call it /scidata \n",
    "\n",
    "finally we need to do the mount.  We can use the IP address of the mount target for that one."
   ]
  },
  {
   "cell_type": "code",
   "execution_count": 63,
   "metadata": {
    "collapsed": true
   },
   "outputs": [],
   "source": [
    "command = 'sudo yum install -y nfs-utils'"
   ]
  },
  {
   "cell_type": "code",
   "execution_count": 64,
   "metadata": {
    "collapsed": false
   },
   "outputs": [
    {
     "data": {
      "text/plain": [
       "['Loaded plugins: priorities, update-motd, upgrade-helper\\n',\n",
       " 'Package 1:nfs-utils-1.3.0-0.21.amzn1.x86_64 already installed and latest version\\n',\n",
       " 'Nothing to do\\n']"
      ]
     },
     "execution_count": 64,
     "metadata": {},
     "output_type": "execute_result"
    }
   ],
   "source": [
    "myexec(priv_key, '54.187.61.12', command)"
   ]
  },
  {
   "cell_type": "code",
   "execution_count": 69,
   "metadata": {
    "collapsed": false
   },
   "outputs": [
    {
     "data": {
      "text/plain": [
       "['drwxr-xr-x  2 root root  4096 Sep 23 22:45 scidata\\n']"
      ]
     },
     "execution_count": 69,
     "metadata": {},
     "output_type": "execute_result"
    }
   ],
   "source": [
    "command = 'sudo mkdir /scidata\\n ls -l / | grep scidata \\n'\n",
    "myexec(priv_key, '54.187.61.12', command)"
   ]
  },
  {
   "cell_type": "code",
   "execution_count": 73,
   "metadata": {
    "collapsed": false
   },
   "outputs": [],
   "source": [
    "command = 'sudo mount -t nfs4 -o vers=4.1 172.31.38.128:/  /scidata \\n \\\n",
    "           df \\n'\n",
    "mntcmd = myexec(priv_key, '54.187.61.12', command)"
   ]
  },
  {
   "cell_type": "code",
   "execution_count": 74,
   "metadata": {
    "collapsed": false
   },
   "outputs": [
    {
     "data": {
      "text/plain": [
       "['Filesystem             1K-blocks    Used        Available Use% Mounted on\\n',\n",
       " '/dev/xvda1               8123812 1211296          6812268  16% /\\n',\n",
       " 'devtmpfs                  501092      64           501028   1% /dev\\n',\n",
       " 'tmpfs                     509668       0           509668   0% /dev/shm\\n',\n",
       " '/dev/xvdh               20511356   45128         19417652   1% /data\\n',\n",
       " '172.31.38.128:/ 9007199254740992       0 9007199254740992   0% /scidata\\n']"
      ]
     },
     "execution_count": 74,
     "metadata": {},
     "output_type": "execute_result"
    }
   ],
   "source": [
    "mntcmd"
   ]
  },
  {
   "cell_type": "code",
   "execution_count": null,
   "metadata": {
    "collapsed": true
   },
   "outputs": [],
   "source": []
  }
 ],
 "metadata": {
  "anaconda-cloud": {},
  "kernelspec": {
   "display_name": "Python [Root]",
   "language": "python",
   "name": "Python [Root]"
  },
  "language_info": {
   "codemirror_mode": {
    "name": "ipython",
    "version": 2
   },
   "file_extension": ".py",
   "mimetype": "text/x-python",
   "name": "python",
   "nbconvert_exporter": "python",
   "pygments_lexer": "ipython2",
   "version": "2.7.12"
  }
 },
 "nbformat": 4,
 "nbformat_minor": 0
}
