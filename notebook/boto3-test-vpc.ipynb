{
 "cells": [
  {
   "cell_type": "code",
   "execution_count": null,
   "id": "5a311d47",
   "metadata": {},
   "outputs": [],
   "source": [
    "# 查询可用的regions\n",
    "\n",
    "import boto3\n",
    "\n",
    "ec2 = boto3.client('ec2')\n",
    "\n",
    "# Retrieves all regions/endpoints that work with EC2\n",
    "response = ec2.describe_regions()\n",
    "print('Regions:', response['Regions'])"
   ]
  },
  {
   "cell_type": "code",
   "execution_count": null,
   "id": "b7f1ed5f",
   "metadata": {},
   "outputs": [],
   "source": [
    "# 查询可用的regions\n",
    "\n",
    "import boto3\n",
    "\n",
    "ec2 = boto3.client('ec2')\n",
    "\n",
    "# Retrieves all regions/endpoints that work with EC2\n",
    "response = ec2.describe_regions()\n",
    "print('Regions:', response['Regions'])\n",
    "\n",
    "# Retrieves availability zones only for region of the ec2 object\n",
    "response = ec2.describe_availability_zones()\n",
    "print('Availability Zones:', response['AvailabilityZones'])"
   ]
  }
 ],
 "metadata": {
  "kernelspec": {
   "display_name": "Python 3 (ipykernel)",
   "language": "python",
   "name": "python3"
  },
  "language_info": {
   "codemirror_mode": {
    "name": "ipython",
    "version": 3
   },
   "file_extension": ".py",
   "mimetype": "text/x-python",
   "name": "python",
   "nbconvert_exporter": "python",
   "pygments_lexer": "ipython3",
   "version": "3.7.10"
  }
 },
 "nbformat": 4,
 "nbformat_minor": 5
}
