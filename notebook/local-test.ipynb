{
 "cells": [
  {
   "cell_type": "code",
   "execution_count": null,
   "metadata": {},
   "outputs": [],
   "source": [
    "import boto3\n",
    "\n",
    "def getEC2():\n",
    "    ec2=boto3.client('ec2')\n",
    "    \"\"\" :type : pyboto3.ec2 \"\"\"\n",
    "    instance=ec2.describe_instances()\n",
    "    print(instance)\n",
    "\n",
    "if __name__ == '__main__':\n",
    "    getEC2()"
   ]
  },
  {
   "cell_type": "code",
   "execution_count": null,
   "metadata": {},
   "outputs": [],
   "source": [
    "# 新建云服务器\n",
    "\n",
    "import os\n",
    "import boto3\n",
    "\n",
    "AMI = os.environ['AMI']\n",
    "INSTANCE_TYPE = os.environ['INSTANCE_TYPE']\n",
    "KEY_NAME = os.environ['KEY_NAME']\n",
    "SUBNET_ID = os.environ['SUBNET_ID']\n",
    "TAG_SPEC = [\n",
    "        {\n",
    "        \"ResourceType\":\"instance\",\n",
    "        \"Tags\": [\n",
    "                {\n",
    "                    \"Key\": \"Flag\",\n",
    "                    \"Value\": \"Easyun\"\n",
    "                }\n",
    "            ]\n",
    "    }\n",
    "    ]\n",
    "\n",
    "ec2 = boto3.resource('ec2')\n",
    " \n",
    "instance = ec2.create_instance(\n",
    "    ImageID=AMI,\n",
    "    InstanceType=INSTANCE_TYPE,\n",
    "    KeyName=KEY_NAME,\n",
    "    SubnetID=SUBNET_ID,\n",
    "    TagSpecifications = TAG_SPEC,\n",
    "    MaxCount=1,\n",
    "    MinCount=1\n",
    "    )\n",
    "    \n",
    "print(\"New instance created:\", instance[0].id)"
   ]
  },
  {
   "cell_type": "code",
   "execution_count": 4,
   "metadata": {},
   "outputs": [],
   "source": [
    "# 创建新的云服务器\n",
    "import boto3\n",
    "\n",
    "# Boto3\n",
    "# ec2.create_instances(ImageId='<ami-image-id>', MinCount=1, MaxCount=5)\n",
    "\n",
    "TAG_SPEC = [\n",
    "    {\n",
    "    \"ResourceType\":\"instance\",\n",
    "    \"Tags\": [\n",
    "            {\"Key\": \"Flag\", \"Value\": \"Easyun\"},\n",
    "            {\"Key\": \"Name\", \"Value\": \"boto3test\"}\n",
    "        ]\n",
    "    }\n",
    "    ]\n",
    "\n",
    "ec2 = boto3.resource('ec2')\n",
    "server = ec2.create_instances(\n",
    "    ImageId='ami-0447addf6c74624eb',\n",
    "    InstanceType='t4g.micro',\n",
    "    MaxCount=1,\n",
    "    MinCount=1,\n",
    "    BlockDeviceMappings=[\n",
    "        {\n",
    "            'DeviceName': '/dev/xvda',\n",
    "            'Ebs': {\n",
    "                'DeleteOnTermination': True,\n",
    "                'VolumeSize': 16,\n",
    "                'VolumeType': 'gp2'\n",
    "            },\n",
    "        },\n",
    "    ],\n",
    "    KeyName=\"key_easyun_dev\",\n",
    "    TagSpecifications = TAG_SPEC,\n",
    "    Monitoring={\n",
    "        'Enabled': False\n",
    "    }\n",
    ")\n",
    "print(server.id, server.instance_type)"
   ]
  },
  {
   "cell_type": "code",
   "execution_count": 11,
   "metadata": {},
   "outputs": [
    {
     "name": "stdout",
     "output_type": "stream",
     "text": [
      "ec2.Instance(id='i-043e8074448089cad')\n"
     ]
    }
   ],
   "source": [
    "# 查看正在运行的服务器\n",
    "import boto3\n",
    "\n",
    "ec2 = boto3.resource('ec2')\n",
    "servers = ec2.instances.filter(\n",
    "    Filters=[\n",
    "        {'Name': 'instance-state-name', 'Values': ['running']},\n",
    "        # {'Name': 'Tags', 'Values': [{\"Key\": \"Flag\",\"Value\": \"Easyun\"}]},\n",
    "    ])\n",
    "for server in servers:\n",
    "    # print(server)\n",
    "    print(server.id, server.instance_type)"
   ]
  },
  {
   "cell_type": "code",
   "execution_count": 10,
   "metadata": {},
   "outputs": [
    {
     "data": {
      "text/plain": [
       "[{'StoppingInstances': [{'CurrentState': {'Code': 64, 'Name': 'stopping'},\n",
       "    'InstanceId': 'i-0cc5e738a7e14854f',\n",
       "    'PreviousState': {'Code': 16, 'Name': 'running'}}],\n",
       "  'ResponseMetadata': {'RequestId': '45efd3e5-e8c2-43d7-a6bb-b28a7bdd1e24',\n",
       "   'HTTPStatusCode': 200,\n",
       "   'HTTPHeaders': {'x-amzn-requestid': '45efd3e5-e8c2-43d7-a6bb-b28a7bdd1e24',\n",
       "    'cache-control': 'no-cache, no-store',\n",
       "    'strict-transport-security': 'max-age=31536000; includeSubDomains',\n",
       "    'content-type': 'text/xml;charset=UTF-8',\n",
       "    'content-length': '579',\n",
       "    'date': 'Wed, 17 Nov 2021 08:54:07 GMT',\n",
       "    'server': 'AmazonEC2'},\n",
       "   'RetryAttempts': 0}}]"
      ]
     },
     "execution_count": 10,
     "metadata": {},
     "output_type": "execute_result"
    }
   ],
   "source": [
    "# 服务器基本操作 - 停止\n",
    "import boto3\n",
    "\n",
    "ec2 = boto3.resource('ec2')\n",
    "\n",
    "\n",
    "ids = ['i-01487a44817f013d6', 'i-043e807444808xxx']\n",
    "\n",
    "# Stopping instances\n",
    "ec2.instances.filter(InstanceIds=ids).stop()"
   ]
  },
  {
   "cell_type": "code",
   "execution_count": 12,
   "metadata": {},
   "outputs": [
    {
     "data": {
      "text/plain": [
       "[{'TerminatingInstances': [{'CurrentState': {'Code': 48, 'Name': 'terminated'},\n",
       "    'InstanceId': 'i-0cc5e738a7e14854f',\n",
       "    'PreviousState': {'Code': 80, 'Name': 'stopped'}}],\n",
       "  'ResponseMetadata': {'RequestId': '1334ca70-a3ab-480a-9b74-ae434212735b',\n",
       "   'HTTPStatusCode': 200,\n",
       "   'HTTPHeaders': {'x-amzn-requestid': '1334ca70-a3ab-480a-9b74-ae434212735b',\n",
       "    'cache-control': 'no-cache, no-store',\n",
       "    'strict-transport-security': 'max-age=31536000; includeSubDomains',\n",
       "    'vary': 'accept-encoding',\n",
       "    'content-type': 'text/xml;charset=UTF-8',\n",
       "    'transfer-encoding': 'chunked',\n",
       "    'date': 'Wed, 17 Nov 2021 09:00:17 GMT',\n",
       "    'server': 'AmazonEC2'},\n",
       "   'RetryAttempts': 0}}]"
      ]
     },
     "execution_count": 12,
     "metadata": {},
     "output_type": "execute_result"
    }
   ],
   "source": [
    "# 服务器基本操作 - 删除\n",
    "import boto3\n",
    "\n",
    "ec2 = boto3.resource('ec2')\n",
    "\n",
    "ids = ['i-0cc5e738a7e14854f']\n",
    "\n",
    "# Terminating instances\n",
    "ec2.instances.filter(InstanceIds=ids).terminate()"
   ]
  },
  {
   "cell_type": "code",
   "execution_count": null,
   "metadata": {},
   "outputs": [],
   "source": [
    "# Creating a VPC\n",
    "vpc = ec2.create_vpc(CidrBlock='10.0.0.0/24')\n",
    "\n",
    "# Creating a subnet\n",
    "subnet = vpc.create_subnet(CidrBlock='10.0.0.0/25')\n",
    "\n",
    "# Creating a gateway\n",
    "gateway = ec2.create_internet_gateway()"
   ]
  },
  {
   "cell_type": "code",
   "execution_count": 1,
   "metadata": {},
   "outputs": [],
   "source": [
    "import boto3\n",
    "\n",
    "s3 = boto3.resource('s3')\n",
    "s3.buckets.filter(Bucketname='cdktoolkit-stagingbucket-1254ykp5179br').filet"
   ]
  }
 ],
 "metadata": {
  "interpreter": {
   "hash": "f489fc70325143672d17125c2924fad0002bc351721b041f98de0695eadb8dc5"
  },
  "kernelspec": {
   "display_name": "Python 3 (ipykernel)",
   "language": "python",
   "name": "python3"
  },
  "language_info": {
   "codemirror_mode": {
    "name": "ipython",
    "version": 3
   },
   "file_extension": ".py",
   "mimetype": "text/x-python",
   "name": "python",
   "nbconvert_exporter": "python",
   "pygments_lexer": "ipython3",
   "version": "3.7.10"
  }
 },
 "nbformat": 4,
 "nbformat_minor": 2
}
