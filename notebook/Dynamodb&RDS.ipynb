{
 "cells": [
  {
   "cell_type": "markdown",
   "id": "563b1af5",
   "metadata": {},
   "source": [
    "# Dynamodb"
   ]
  },
  {
   "cell_type": "markdown",
   "id": "377f4597",
   "metadata": {},
   "source": [
    "## Create"
   ]
  },
  {
   "cell_type": "code",
   "execution_count": 5,
   "id": "5fc895da",
   "metadata": {},
   "outputs": [
    {
     "name": "stdout",
     "output_type": "stream",
     "text": [
      "0\n"
     ]
    }
   ],
   "source": [
    "import boto3\n",
    "\n",
    "# Get the service resource.\n",
    "dynamodb = boto3.resource('dynamodb')\n",
    "\n",
    "# Create the DynamoDB table.\n",
    "table = dynamodb.create_table(\n",
    "    TableName='users',\n",
    "    KeySchema=[\n",
    "        {\n",
    "            'AttributeName': 'username',\n",
    "            'KeyType': 'HASH'\n",
    "        },\n",
    "        {\n",
    "            'AttributeName': 'last_name',\n",
    "            'KeyType': 'RANGE'\n",
    "        }\n",
    "    ],\n",
    "    AttributeDefinitions=[\n",
    "        {\n",
    "            'AttributeName': 'username',\n",
    "            'AttributeType': 'S'\n",
    "        },\n",
    "        {\n",
    "            'AttributeName': 'last_name',\n",
    "            'AttributeType': 'S'\n",
    "        },\n",
    "    ],\n",
    "    ProvisionedThroughput={\n",
    "        'ReadCapacityUnits': 5,\n",
    "        'WriteCapacityUnits': 5\n",
    "    }\n",
    ")\n",
    "\n",
    "# Wait until the table exists.\n",
    "table.meta.client.get_waiter('table_exists').wait(TableName='users')\n",
    "\n",
    "# Print out some data about the table.\n",
    "print(table.item_count)"
   ]
  },
  {
   "cell_type": "markdown",
   "id": "5e06c497",
   "metadata": {},
   "source": [
    "## Search, Query"
   ]
  },
  {
   "cell_type": "code",
   "execution_count": 6,
   "id": "0d758be6",
   "metadata": {},
   "outputs": [
    {
     "name": "stdout",
     "output_type": "stream",
     "text": [
      "2021-11-20 10:56:37.743000+00:00\n"
     ]
    }
   ],
   "source": [
    "import boto3\n",
    "\n",
    "# Get the service resource.\n",
    "dynamodb = boto3.resource('dynamodb')\n",
    "\n",
    "# Instantiate a table resource object without actually\n",
    "# creating a DynamoDB table. Note that the attributes of this table\n",
    "# are lazy-loaded: a request is not made nor are the attribute\n",
    "# values populated until the attributes\n",
    "# on the table resource are accessed or its load() method is called.\n",
    "table = dynamodb.Table('users')\n",
    "\n",
    "# Print out some data about the table.\n",
    "# This will cause a request to be made to DynamoDB and its attribute\n",
    "# values will be set based on the response.\n",
    "print(table.creation_date_time)"
   ]
  },
  {
   "cell_type": "code",
   "execution_count": 11,
   "id": "ffe9b1e4",
   "metadata": {},
   "outputs": [
    {
     "name": "stdout",
     "output_type": "stream",
     "text": [
      "{'username': 'janedoe', 'account_type': 'standard_user', 'last_name': 'Doe', 'age': Decimal('25'), 'first_name': 'Jane'}\n",
      "{'username': 'janedoe', 'account_type': 'standard_user', 'last_name': 'Doe', 'age': Decimal('26'), 'first_name': 'Jane'}\n"
     ]
    },
    {
     "data": {
      "text/plain": [
       "{'ResponseMetadata': {'RequestId': 'GE38T2RMO6D4UFLDUMB8E38I4VVV4KQNSO5AEMVJF66Q9ASUAAJG',\n",
       "  'HTTPStatusCode': 200,\n",
       "  'HTTPHeaders': {'server': 'Server',\n",
       "   'date': 'Sat, 20 Nov 2021 11:01:47 GMT',\n",
       "   'content-type': 'application/x-amz-json-1.0',\n",
       "   'content-length': '2',\n",
       "   'connection': 'keep-alive',\n",
       "   'x-amzn-requestid': 'GE38T2RMO6D4UFLDUMB8E38I4VVV4KQNSO5AEMVJF66Q9ASUAAJG',\n",
       "   'x-amz-crc32': '2745614147'},\n",
       "  'RetryAttempts': 0}}"
      ]
     },
     "execution_count": 11,
     "metadata": {},
     "output_type": "execute_result"
    }
   ],
   "source": [
    "#Creating a new item\n",
    "table.put_item(\n",
    "   Item={\n",
    "        'username': 'janedoe',\n",
    "        'first_name': 'Jane',\n",
    "        'last_name': 'Doe',\n",
    "        'age': 25,\n",
    "        'account_type': 'standard_user',\n",
    "    }\n",
    ")\n",
    "# Getting an item\n",
    "response = table.get_item(\n",
    "    Key={\n",
    "        'username': 'janedoe',\n",
    "        'last_name': 'Doe'\n",
    "    }\n",
    ")\n",
    "item = response['Item']\n",
    "print(item)\n",
    "\n",
    "# Updating an item\n",
    "table.update_item(\n",
    "    Key={\n",
    "        'username': 'janedoe',\n",
    "        'last_name': 'Doe'\n",
    "    },\n",
    "    UpdateExpression='SET age = :val1',\n",
    "    ExpressionAttributeValues={\n",
    "        ':val1': 26\n",
    "    }\n",
    ")\n",
    "response = table.get_item(\n",
    "    Key={\n",
    "        'username': 'janedoe',\n",
    "        'last_name': 'Doe'\n",
    "    }\n",
    ")\n",
    "item = response['Item']\n",
    "print(item)\n",
    "\n",
    "# Deleting an item\n",
    "table.delete_item(\n",
    "    Key={\n",
    "        'username': 'janedoe',\n",
    "        'last_name': 'Doe'\n",
    "    }\n",
    ")"
   ]
  },
  {
   "cell_type": "code",
   "execution_count": 12,
   "id": "ccb013b8",
   "metadata": {},
   "outputs": [],
   "source": [
    "# Batch writing\n",
    "with table.batch_writer() as batch:\n",
    "    for i in range(50):\n",
    "        batch.put_item(\n",
    "            Item={\n",
    "                'account_type': 'anonymous',\n",
    "                'username': 'user' + str(i),\n",
    "                'first_name': 'unknown',\n",
    "                'last_name': 'unknown'\n",
    "            }\n",
    "        )"
   ]
  },
  {
   "cell_type": "code",
   "execution_count": 17,
   "id": "54b5ad07",
   "metadata": {},
   "outputs": [
    {
     "name": "stdout",
     "output_type": "stream",
     "text": [
      "[{'username': 'janedoe', 'account_type': 'standard_user', 'last_name': 'Doe', 'first_name': 'Jane', 'age': Decimal('25')}]\n"
     ]
    }
   ],
   "source": [
    "# Querying and scanning\n",
    "from boto3.dynamodb.conditions import Key, Attr\n",
    "\n",
    "table.put_item(\n",
    "   Item={\n",
    "        'username': 'janedoe',\n",
    "        'first_name': 'Jane',\n",
    "        'last_name': 'Doe',\n",
    "        'age': 25,\n",
    "        'account_type': 'standard_user',\n",
    "    }\n",
    ")\n",
    "response = table.query(\n",
    "    KeyConditionExpression=Key('username').eq('janedoe')\n",
    ")\n",
    "items = response['Items']\n",
    "print(items)"
   ]
  },
  {
   "cell_type": "code",
   "execution_count": 19,
   "id": "abaa84da",
   "metadata": {},
   "outputs": [
    {
     "name": "stdout",
     "output_type": "stream",
     "text": [
      "[{'username': 'janedoe', 'account_type': 'standard_user', 'last_name': 'Doe', 'first_name': 'Jane', 'age': Decimal('25')}]\n"
     ]
    }
   ],
   "source": [
    "# lt表示less than小于27岁\n",
    "response = table.scan(\n",
    "    FilterExpression=Attr('age').lt(27)\n",
    ")\n",
    "items = response['Items']\n",
    "print(items)"
   ]
  },
  {
   "cell_type": "code",
   "execution_count": 21,
   "id": "5ee4941b",
   "metadata": {},
   "outputs": [
    {
     "name": "stdout",
     "output_type": "stream",
     "text": [
      "[{'username': 'janedoe', 'account_type': 'standard_user', 'last_name': 'Doe', 'first_name': 'Jane', 'age': Decimal('25')}]\n"
     ]
    }
   ],
   "source": [
    "response = table.scan(\n",
    "    FilterExpression=Attr('first_name').begins_with('J')\n",
    ")\n",
    "items = response['Items']\n",
    "print(items)"
   ]
  },
  {
   "cell_type": "code",
   "execution_count": 22,
   "id": "3980ec87",
   "metadata": {},
   "outputs": [
    {
     "name": "stdout",
     "output_type": "stream",
     "text": [
      "[{'username': 'janedoe', 'account_type': 'standard_user', 'last_name': 'Doe', 'first_name': 'Jane', 'age': Decimal('25')}]\n"
     ]
    }
   ],
   "source": [
    "response = table.scan(\n",
    "    FilterExpression=Attr('first_name').eq('Jane')\n",
    ")\n",
    "items = response['Items']\n",
    "print(items)"
   ]
  },
  {
   "cell_type": "code",
   "execution_count": 23,
   "id": "6a2fc41b",
   "metadata": {},
   "outputs": [
    {
     "data": {
      "text/plain": [
       "{'TableDescription': {'TableName': 'users',\n",
       "  'TableStatus': 'DELETING',\n",
       "  'ProvisionedThroughput': {'NumberOfDecreasesToday': 0,\n",
       "   'ReadCapacityUnits': 5,\n",
       "   'WriteCapacityUnits': 5},\n",
       "  'TableSizeBytes': 0,\n",
       "  'ItemCount': 0,\n",
       "  'TableArn': 'arn:aws:dynamodb:eu-west-1:071908484098:table/users',\n",
       "  'TableId': '40d66e66-e11d-493a-94a3-fd30609f0abc'},\n",
       " 'ResponseMetadata': {'RequestId': 'DCFR8CR6F2BAF89LEG5RP5A8LVVV4KQNSO5AEMVJF66Q9ASUAAJG',\n",
       "  'HTTPStatusCode': 200,\n",
       "  'HTTPHeaders': {'server': 'Server',\n",
       "   'date': 'Sat, 20 Nov 2021 11:05:53 GMT',\n",
       "   'content-type': 'application/x-amz-json-1.0',\n",
       "   'content-length': '312',\n",
       "   'connection': 'keep-alive',\n",
       "   'x-amzn-requestid': 'DCFR8CR6F2BAF89LEG5RP5A8LVVV4KQNSO5AEMVJF66Q9ASUAAJG',\n",
       "   'x-amz-crc32': '2433127517'},\n",
       "  'RetryAttempts': 0}}"
      ]
     },
     "execution_count": 23,
     "metadata": {},
     "output_type": "execute_result"
    }
   ],
   "source": [
    "table.delete()"
   ]
  },
  {
   "cell_type": "code",
   "execution_count": null,
   "id": "67b1ff9b",
   "metadata": {},
   "outputs": [],
   "source": []
  },
  {
   "cell_type": "markdown",
   "id": "1baaa8c9",
   "metadata": {},
   "source": [
    "# Create an RDS instance\n",
    "First, we need to create a Security Group allowing incoming connections to port 3306 (the default MySQL port).\n",
    "\n",
    "https://boto3.readthedocs.io/en/latest/reference/services/ec2.html#EC2.Client.create_security_group https://boto3.readthedocs.io/en/latest/reference/services/ec2.html#EC2.Client.authorize_security_group_ingress\n",
    "\n",
    "Then, we launch an RDS MySQL instance.\n",
    "\n",
    "https://boto3.readthedocs.io/en/latest/reference/services/rds.html#RDS.Client.create_db_instance\n",
    "\n",
    "Make sure to use the 'db.t2.micro' instance class to stay within the free tier."
   ]
  },
  {
   "cell_type": "code",
   "execution_count": 7,
   "id": "bae3b895",
   "metadata": {},
   "outputs": [
    {
     "data": {
      "text/plain": [
       "{'DBInstance': {'DBInstanceIdentifier': 'meetuprdsinstance',\n",
       "  'DBInstanceClass': 'db.t2.micro',\n",
       "  'Engine': 'mysql',\n",
       "  'DBInstanceStatus': 'creating',\n",
       "  'MasterUsername': 'julien',\n",
       "  'DBName': 'meetupdb',\n",
       "  'AllocatedStorage': 8,\n",
       "  'PreferredBackupWindow': '02:11-02:41',\n",
       "  'BackupRetentionPeriod': 1,\n",
       "  'DBSecurityGroups': [],\n",
       "  'VpcSecurityGroups': [{'VpcSecurityGroupId': 'sg-0c35483c936d103ad',\n",
       "    'Status': 'active'}],\n",
       "  'DBParameterGroups': [{'DBParameterGroupName': 'default.mysql8.0',\n",
       "    'ParameterApplyStatus': 'in-sync'}],\n",
       "  'DBSubnetGroup': {'DBSubnetGroupName': 'default',\n",
       "   'DBSubnetGroupDescription': 'default',\n",
       "   'VpcId': 'vpc-00b23a07e7d9d1217',\n",
       "   'SubnetGroupStatus': 'Complete',\n",
       "   'Subnets': [{'SubnetIdentifier': 'subnet-0da174ec16a5daded',\n",
       "     'SubnetAvailabilityZone': {'Name': 'eu-west-1a'},\n",
       "     'SubnetOutpost': {},\n",
       "     'SubnetStatus': 'Active'},\n",
       "    {'SubnetIdentifier': 'subnet-084ae15ea4463ce20',\n",
       "     'SubnetAvailabilityZone': {'Name': 'eu-west-1b'},\n",
       "     'SubnetOutpost': {},\n",
       "     'SubnetStatus': 'Active'},\n",
       "    {'SubnetIdentifier': 'subnet-0139752eb6786e997',\n",
       "     'SubnetAvailabilityZone': {'Name': 'eu-west-1c'},\n",
       "     'SubnetOutpost': {},\n",
       "     'SubnetStatus': 'Active'}]},\n",
       "  'PreferredMaintenanceWindow': 'thu:03:11-thu:03:41',\n",
       "  'PendingModifiedValues': {'MasterUserPassword': '****'},\n",
       "  'MultiAZ': False,\n",
       "  'EngineVersion': '8.0.23',\n",
       "  'AutoMinorVersionUpgrade': True,\n",
       "  'ReadReplicaDBInstanceIdentifiers': [],\n",
       "  'LicenseModel': 'general-public-license',\n",
       "  'OptionGroupMemberships': [{'OptionGroupName': 'default:mysql-8-0',\n",
       "    'Status': 'in-sync'}],\n",
       "  'PubliclyAccessible': True,\n",
       "  'StorageType': 'gp2',\n",
       "  'DbInstancePort': 0,\n",
       "  'StorageEncrypted': False,\n",
       "  'DbiResourceId': 'db-GSI3QLVUAJHOO3SAX75W3LLMQU',\n",
       "  'CACertificateIdentifier': 'rds-ca-2019',\n",
       "  'DomainMemberships': [],\n",
       "  'CopyTagsToSnapshot': False,\n",
       "  'MonitoringInterval': 0,\n",
       "  'DBInstanceArn': 'arn:aws:rds:eu-west-1:071908484098:db:meetuprdsinstance',\n",
       "  'IAMDatabaseAuthenticationEnabled': False,\n",
       "  'PerformanceInsightsEnabled': False,\n",
       "  'DeletionProtection': False,\n",
       "  'AssociatedRoles': [],\n",
       "  'TagList': [],\n",
       "  'CustomerOwnedIpEnabled': False},\n",
       " 'ResponseMetadata': {'RequestId': '03d3a58c-7a15-42f0-8994-b2dfd74beea3',\n",
       "  'HTTPStatusCode': 200,\n",
       "  'HTTPHeaders': {'x-amzn-requestid': '03d3a58c-7a15-42f0-8994-b2dfd74beea3',\n",
       "   'content-type': 'text/xml',\n",
       "   'content-length': '4152',\n",
       "   'date': 'Sat, 20 Nov 2021 11:37:00 GMT'},\n",
       "  'RetryAttempts': 0}}"
      ]
     },
     "execution_count": 7,
     "metadata": {},
     "output_type": "execute_result"
    }
   ],
   "source": [
    "import boto3\n",
    "\n",
    "ec2 = boto3.client('ec2', region_name='eu-west-1')\n",
    "response = ec2.create_security_group(GroupName='meetupdbsg',Description='SG for ML Meetup')\n",
    "sgid = response['GroupId']\n",
    "ec2.authorize_security_group_ingress(GroupId=sgid,IpProtocol='tcp',CidrIp='0.0.0.0/0',FromPort=3306,ToPort=3306)\n",
    "\n",
    "rds_client = boto3.client('rds', region_name='eu-west-1')\n",
    "rds_client.create_db_instance(\n",
    "    DBName='meetupdb', DBInstanceIdentifier='meetuprdsinstance', \n",
    "    Engine='mysql', EngineVersion='8.0.23', DBInstanceClass='db.t2.micro', AllocatedStorage=8,\n",
    "    MasterUsername='julien', MasterUserPassword='julienjulien',\n",
    "    VpcSecurityGroupIds=[sgid])"
   ]
  },
  {
   "cell_type": "code",
   "execution_count": 15,
   "id": "834c3b98",
   "metadata": {},
   "outputs": [
    {
     "name": "stdout",
     "output_type": "stream",
     "text": [
      "Name: meetuprdsinstance\n",
      "Status: available\n",
      "Endpoint: meetuprdsinstance.c68wfce0e2bb.eu-west-1.rds.amazonaws.com\n",
      "Port: 3306\n"
     ]
    }
   ],
   "source": [
    "import boto3\n",
    "\n",
    "rds_client = boto3.client('rds', region_name='eu-west-1')\n",
    "instances = rds_client.describe_db_instances()\n",
    "for i in instances['DBInstances']:\n",
    "    print ('Name: ' + i['DBInstanceIdentifier'])\n",
    "    print ('Status: ' + i['DBInstanceStatus'])\n",
    "    print ('Endpoint: ' + i['Endpoint']['Address'])\n",
    "    print ('Port: ' + str(i['Endpoint']['Port']))"
   ]
  },
  {
   "cell_type": "code",
   "execution_count": 18,
   "id": "efb2c9bf",
   "metadata": {},
   "outputs": [
    {
     "name": "stdout",
     "output_type": "stream",
     "text": [
      "Instance: meetuprdsinstance\n",
      "DB Name: meetupdb\n",
      "Status: available\n",
      "Engine: mysql 8.0.23\n",
      "Port: 3306\n",
      "Endpoint: meetuprdsinstance.c68wfce0e2bb.eu-west-1.rds.amazonaws.com\n",
      "Security Group: sg-0c35483c936d103ad active\n"
     ]
    }
   ],
   "source": [
    "for i in instances['DBInstances']:\n",
    "    print('Instance:', i[\"DBInstanceIdentifier\"])\n",
    "    print('DB Name:', i[\"DBName\"])\n",
    "    print('Status:', i[\"DBInstanceStatus\"])\n",
    "    print('Engine:', i['Engine'], i['EngineVersion'])\n",
    "    try:\n",
    "        print('Port:', i[\"Endpoint\"]['Port'])\n",
    "        print('Endpoint:', i[\"Endpoint\"]['Address'])\n",
    "        print('Security Group:', i[\"VpcSecurityGroups\"][0][\"VpcSecurityGroupId\"], i[\"VpcSecurityGroups\"][0]['Status'] )\n",
    "    except:\n",
    "        pass\n",
    "        print('-' * 50)"
   ]
  },
  {
   "cell_type": "code",
   "execution_count": 17,
   "id": "f50a9519",
   "metadata": {},
   "outputs": [
    {
     "data": {
      "text/plain": [
       "{'DBSnapshots': [{'DBSnapshotIdentifier': 'mythical-mysfits-devsecops-snapshot-clairdb-i7xj65g700c5',\n",
       "   'DBInstanceIdentifier': 'mcq8lk90t6n8hb',\n",
       "   'SnapshotCreateTime': datetime.datetime(2021, 11, 12, 0, 7, 23, 920000, tzinfo=tzlocal()),\n",
       "   'Engine': 'postgres',\n",
       "   'AllocatedStorage': 20,\n",
       "   'Status': 'available',\n",
       "   'Port': 5432,\n",
       "   'AvailabilityZone': 'eu-west-1a',\n",
       "   'VpcId': 'vpc-08cca75e48ee0c810',\n",
       "   'InstanceCreateTime': datetime.datetime(2021, 11, 7, 22, 25, 51, 80000, tzinfo=tzlocal()),\n",
       "   'MasterUsername': 'postgres',\n",
       "   'EngineVersion': '9.6.22',\n",
       "   'LicenseModel': 'postgresql-license',\n",
       "   'SnapshotType': 'manual',\n",
       "   'OptionGroupName': 'default:postgres-9-6',\n",
       "   'PercentProgress': 100,\n",
       "   'StorageType': 'gp2',\n",
       "   'Encrypted': False,\n",
       "   'DBSnapshotArn': 'arn:aws:rds:eu-west-1:071908484098:snapshot:mythical-mysfits-devsecops-snapshot-clairdb-i7xj65g700c5',\n",
       "   'IAMDatabaseAuthenticationEnabled': False,\n",
       "   'ProcessorFeatures': [],\n",
       "   'DbiResourceId': 'db-FMWH7GAW7BU5R5YZCHIUWULLVM',\n",
       "   'TagList': [],\n",
       "   'OriginalSnapshotCreateTime': datetime.datetime(2021, 11, 12, 0, 7, 23, 920000, tzinfo=tzlocal())},\n",
       "  {'DBSnapshotIdentifier': 'rds:meetuprdsinstance-2021-11-20-11-41',\n",
       "   'DBInstanceIdentifier': 'meetuprdsinstance',\n",
       "   'SnapshotCreateTime': datetime.datetime(2021, 11, 20, 11, 41, 37, 870000, tzinfo=tzlocal()),\n",
       "   'Engine': 'mysql',\n",
       "   'AllocatedStorage': 8,\n",
       "   'Status': 'available',\n",
       "   'Port': 3306,\n",
       "   'AvailabilityZone': 'eu-west-1a',\n",
       "   'VpcId': 'vpc-00b23a07e7d9d1217',\n",
       "   'InstanceCreateTime': datetime.datetime(2021, 11, 20, 11, 41, 10, 544000, tzinfo=tzlocal()),\n",
       "   'MasterUsername': 'julien',\n",
       "   'EngineVersion': '8.0.23',\n",
       "   'LicenseModel': 'general-public-license',\n",
       "   'SnapshotType': 'automated',\n",
       "   'OptionGroupName': 'default:mysql-8-0',\n",
       "   'PercentProgress': 100,\n",
       "   'StorageType': 'gp2',\n",
       "   'Encrypted': False,\n",
       "   'DBSnapshotArn': 'arn:aws:rds:eu-west-1:071908484098:snapshot:rds:meetuprdsinstance-2021-11-20-11-41',\n",
       "   'IAMDatabaseAuthenticationEnabled': False,\n",
       "   'ProcessorFeatures': [],\n",
       "   'DbiResourceId': 'db-GSI3QLVUAJHOO3SAX75W3LLMQU',\n",
       "   'TagList': [],\n",
       "   'OriginalSnapshotCreateTime': datetime.datetime(2021, 11, 20, 11, 41, 37, 870000, tzinfo=tzlocal())}],\n",
       " 'ResponseMetadata': {'RequestId': '10aa2e12-5647-44bc-809a-e3d25a8e4f29',\n",
       "  'HTTPStatusCode': 200,\n",
       "  'HTTPHeaders': {'x-amzn-requestid': '10aa2e12-5647-44bc-809a-e3d25a8e4f29',\n",
       "   'content-type': 'text/xml',\n",
       "   'content-length': '3318',\n",
       "   'date': 'Sat, 20 Nov 2021 12:11:25 GMT'},\n",
       "  'RetryAttempts': 0}}"
      ]
     },
     "execution_count": 17,
     "metadata": {},
     "output_type": "execute_result"
    }
   ],
   "source": [
    "# Get Snapshots\n",
    "rds_client.describe_db_snapshots()"
   ]
  },
  {
   "cell_type": "raw",
   "id": "5d154825",
   "metadata": {},
   "source": [
    "$ mysql -h $ENDPOINT -u julien -p\n",
    "Enter password:\n",
    "Welcome to the MySQL monitor.  Commands end with ; or \\g.\n",
    "Your MySQL connection id is 16\n",
    "Server version: 5.7.11-log MySQL Community Server (GPL)\n",
    "\n",
    "Copyright (c) 2000, 2016, Oracle and/or its affiliates. All rights reserved.\n",
    "\n",
    "Oracle is a registered trademark of Oracle Corporation and/or its\n",
    "affiliates. Other names may be trademarks of their respective\n",
    "owners.\n",
    "\n",
    "Type 'help;' or '\\h' for help. Type '\\c' to clear the current input statement.\n",
    "\n",
    "mysql>\n",
    "mysql>\n",
    "mysql> show databases;\n",
    "+--------------------+\n",
    "| Database           |\n",
    "+--------------------+\n",
    "| information_schema |\n",
    "| innodb             |\n",
    "| meetupdb           |\n",
    "| mysql              |\n",
    "| performance_schema |\n",
    "| sys                |\n",
    "+--------------------+\n",
    "6 rows in set (0,06 sec)"
   ]
  },
  {
   "cell_type": "markdown",
   "id": "e7936556",
   "metadata": {},
   "source": [
    "# Delete an RDS instance\n",
    "When you're done working with your instance, don't forget to delete it. Be careful, there is no confirmation!\n",
    "\n",
    "You can use the describe_db_instances() script above to check that your instance is being deleted.\n",
    "\n"
   ]
  },
  {
   "cell_type": "code",
   "execution_count": null,
   "id": "a1b5e925",
   "metadata": {},
   "outputs": [],
   "source": [
    "import boto3\n",
    "\n",
    "rds_client = boto3.client('rds', region_name='eu-west-1')\n",
    "response = rds_client.delete_db_instance(DBInstanceIdentifier='meetuprdsinstance',SkipFinalSnapshot=True)\n",
    "print response"
   ]
  },
  {
   "cell_type": "code",
   "execution_count": null,
   "id": "6d1a42f4",
   "metadata": {},
   "outputs": [],
   "source": []
  }
 ],
 "metadata": {
  "kernelspec": {
   "display_name": "Python 3 (ipykernel)",
   "language": "python",
   "name": "python3"
  },
  "language_info": {
   "codemirror_mode": {
    "name": "ipython",
    "version": 3
   },
   "file_extension": ".py",
   "mimetype": "text/x-python",
   "name": "python",
   "nbconvert_exporter": "python",
   "pygments_lexer": "ipython3",
   "version": "3.7.10"
  }
 },
 "nbformat": 4,
 "nbformat_minor": 5
}
