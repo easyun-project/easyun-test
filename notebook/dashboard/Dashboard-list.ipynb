{
 "cells": [
  {
   "cell_type": "markdown",
   "id": "daa27f3d",
   "metadata": {},
   "source": [
    "### Dashboad 资源列表 python 代码"
   ]
  },
  {
   "cell_type": "code",
   "execution_count": 2,
   "id": "f64c0a93",
   "metadata": {},
   "outputs": [
    {
     "name": "stdout",
     "output_type": "stream",
     "text": [
      "ID: i-01487a44817f013d6\n",
      "Server type: \"t2.micro\n",
      "Server AMI: ami-01cc34ab2709337aa\n",
      "Piblic(IPv4): None\n",
      "Server state: stopped\n",
      "--------------------------------------------------\n",
      "ID: i-0ee5c93f5d6d8ede7\n",
      "Server type: \"t4g.micro\n",
      "Server AMI: ami-0447addf6c74624eb\n",
      "Piblic(IPv4): None\n",
      "Server state: terminated\n",
      "--------------------------------------------------\n",
      "ID: i-043e8074448089cad\n",
      "Server type: \"t4g.micro\n",
      "Server AMI: ami-0447addf6c74624eb\n",
      "Piblic(IPv4): 18.209.235.10\n",
      "Server state: running\n",
      "--------------------------------------------------\n",
      "ID: i-05601c9a6d3dbe7c4\n",
      "Server type: \"t4g.micro\n",
      "Server AMI: ami-0447addf6c74624eb\n",
      "Piblic(IPv4): None\n",
      "Server state: stopped\n",
      "--------------------------------------------------\n",
      "ID: i-064261c271d1d6128\n",
      "Server type: \"t4g.micro\n",
      "Server AMI: ami-0447addf6c74624eb\n",
      "Piblic(IPv4): None\n",
      "Server state: terminated\n",
      "--------------------------------------------------\n"
     ]
    }
   ],
   "source": [
    "# 【仅参考】查看Region内所有云服务器\n",
    "import boto3\n",
    "\n",
    "REGION = \"us-east-1\"\n",
    "FLAG = 'Easyun'\n",
    "RESOURCE = boto3.resource('ec2', region_name=REGION)\n",
    "\n",
    "servers = RESOURCE.instances.all()\n",
    "for server in servers:\n",
    "    print(f'ID: {server.id}')\n",
    "    print(f'Server type: \"{server.instance_type}')\n",
    "    print(f'Server AMI: {server.image.id}')\n",
    "#    print(f'Server platform: {server.platform}')\n",
    "    print(f'Piblic(IPv4): {server.public_ip_address}')\n",
    "    print(f'Server state: {server.state[\"Name\"]}')    \n",
    "    print('-'*50)"
   ]
  },
  {
   "cell_type": "code",
   "execution_count": 1,
   "id": "6c87b6d3",
   "metadata": {},
   "outputs": [
    {
     "name": "stdout",
     "output_type": "stream",
     "text": [
      "i-0ee5c93f5d6d8ede7 t4g.micro terminated\n",
      "i-05601c9a6d3dbe7c4 t4g.micro stopped\n",
      "i-064261c271d1d6128 t4g.micro terminated\n"
     ]
    }
   ],
   "source": [
    "# Easyun环境下云服务器列表（filtering）\n",
    "import boto3\n",
    "\n",
    "REGION = \"us-east-1\"\n",
    "FLAG = 'Easyun'\n",
    "RESOURCE = boto3.resource('ec2', region_name=REGION)\n",
    "\n",
    "servers = RESOURCE.instances.filter(\n",
    "    Filters=[\n",
    "        {'Name': 'tag:Flag','Values': [FLAG]},\n",
    "#        {'Name': 'instance-state-name', 'Values': ['running']},\n",
    "        {'Name': 'instance-type','Values': ['t4g.micro']}\n",
    "    ]\n",
    ")\n",
    "for server in servers:\n",
    "    print(server.id, server.instance_type, server.state[\"Name\"])\n",
    "#    print(server.tag[\"Name\"])"
   ]
  }
 ],
 "metadata": {
  "kernelspec": {
   "display_name": "Python 3 (ipykernel)",
   "language": "python",
   "name": "python3"
  },
  "language_info": {
   "codemirror_mode": {
    "name": "ipython",
    "version": 3
   },
   "file_extension": ".py",
   "mimetype": "text/x-python",
   "name": "python",
   "nbconvert_exporter": "python",
   "pygments_lexer": "ipython3",
   "version": "3.7.10"
  }
 },
 "nbformat": 4,
 "nbformat_minor": 5
}
