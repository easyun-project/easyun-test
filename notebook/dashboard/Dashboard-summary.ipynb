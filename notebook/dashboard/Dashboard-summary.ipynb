{
 "cells": [
  {
   "cell_type": "code",
   "execution_count": null,
   "id": "712b7c74",
   "metadata": {},
   "outputs": [],
   "source": [
    "# 获取S3存储桶容量1\n",
    "import boto3\n",
    "'''\n",
    "//s3 cli 实现参考 ls汇总\n",
    "$ aws s3 ls --summarize --human-readable --recursive s3://cdktoolkit-stagingbucket-1254ykp5179br\n",
    "\n",
    "//s3api 使用sum(Contents[].Size)对所有对象大小值求和，length(Contents[])\n",
    "$  aws s3api list-objects --bucket cdktoolkit-stagingbucket-1254ykp5179br --output json --query \"[sum(Contents[].Size), length(Contents[])]\"\n",
    "'''\n"
   ]
  },
  {
   "cell_type": "code",
   "execution_count": null,
   "id": "3bf48b30",
   "metadata": {},
   "outputs": [],
   "source": [
    "# 获取s3存储桶的容量2\n",
    "import boto3\n",
    "'''\n",
    "//s3 cli 实现参考，从cloudwatch获取s3桶的存储容量(统计最近24h的容量平均值), 不需要遍历对象，适合大桶下使用：  \n",
    "$ aws cloudwatch get-metric-statistics --namespace AWS/S3 --start-time 2021-11-10T01:00:00 --end-time 2021-11-11T01:00:00 --period 86400 --statistics Average --region us-east-1 --metric-name BucketSizeBytes --dimensions Name=BucketName,Value=cdktoolkit-stagingbucket-1254ykp5179br Name=StorageType,Value=StandardStorage\n",
    "\n",
    "//必须在Dimensions参数中同时指定 StorageType 和 BucketName。你只需要改变的是--start-date，--end-time 和 Value=toukakoukan.com\n",
    "'''\n",
    "\n"
   ]
  }
 ],
 "metadata": {
  "kernelspec": {
   "display_name": "Python 3 (ipykernel)",
   "language": "python",
   "name": "python3"
  },
  "language_info": {
   "codemirror_mode": {
    "name": "ipython",
    "version": 3
   },
   "file_extension": ".py",
   "mimetype": "text/x-python",
   "name": "python",
   "nbconvert_exporter": "python",
   "pygments_lexer": "ipython3",
   "version": "3.7.10"
  }
 },
 "nbformat": 4,
 "nbformat_minor": 5
}
