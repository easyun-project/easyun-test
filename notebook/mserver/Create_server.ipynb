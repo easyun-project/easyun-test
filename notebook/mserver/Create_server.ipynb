{
 "cells": [
  {
   "cell_type": "markdown",
   "id": "e535b222",
   "metadata": {},
   "source": [
    "### Easyun测试环境参数信息\n",
    "'''\n",
    "AMI ID(x86): \n",
    "    ami-04ad2567c9e3d7893\n",
    "        AMI name: amzn2-ami-hvm-2.0.20211103.0-x86_64-gp2\n",
    "    ami-01cc34ab2709337aa\n",
    "        Platform: Amazon Linux (Inferred)\n",
    "        AMI name: amzn2-ami-hvm-2.0.20211005.0-x86_64-gp2      \n",
    "AMI ID(x86): \n",
    "    ami-0447addf6c74624eb\n",
    "        Platform: Amazon Linux (Inferred)\n",
    "        AMI name: amzn2-ami-hvm-2.0.20211005.0-arm64-gp2\n",
    "        \n",
    "Instance type(x86):\n",
    "    t2.micro\n",
    "Instance type(arm):     \n",
    "    t4g.nano\n",
    "    t4g.micro\n",
    "    \n",
    "VPC ID：\n",
    "    vpc-057f0e3d715c24147 (Easyun-VPC) \n",
    "Subnet ID：\n",
    "     subnet-06bfe659f6ecc2eed (pub-subnet-1, us-east-1a) \n",
    "     subnet-02a09fd044f6d8e8d (pub-subnet-2, us-east-1b) \n",
    "     subnet-03c3de7f09dfe36d7 (pri-subnet-1, us-east-1a) \n",
    "     subnet-0c903785974d075f0 (pri-subnet-2, us-east-1b)      \n",
    "Security group ID：\n",
    "    sg-05df5c8e8396d06e9 (easyun-sg-database)\n",
    "    sg-02f0f5390e1cba746 (easyun-sg-webapp)\n",
    "    sg-0bb69bb599b303a1e (easyun-sg-dev)\n",
    "    \n",
    "Key pair:\n",
    "    key_easyun_dev\n",
    "'''"
   ]
  },
  {
   "cell_type": "code",
   "execution_count": 11,
   "id": "7df2cb28",
   "metadata": {},
   "outputs": [
    {
     "name": "stdout",
     "output_type": "stream",
     "text": [
      "i-0a3ee56a27d528525 ami-0447addf6c74624eb t4g.nano\n"
     ]
    }
   ],
   "source": [
    "# Easyun环境下新建云服务器\n",
    "import boto3\n",
    "\n",
    "# Boto3\n",
    "# ec2.create_instances(ImageId='<ami-image-id>', MinCount=1, MaxCount=5)\n",
    "\n",
    "REGION = \"us-east-1\"\n",
    "FLAG = 'Easyun'\n",
    "RESOURCE = boto3.resource('ec2', region_name=REGION)\n",
    "\n",
    "# 云服务器参数定义\n",
    "NAME = 'boto3test'\n",
    "NUM = 1\n",
    "AMI = 'ami-0447addf6c74624eb'\n",
    "TYPE = 't4g.nano'\n",
    "SUBNET = 'subnet-06bfe659f6ecc2eed'\n",
    "SGs = ['sg-05df5c8e8396d06e9',]\n",
    "KEY = \"key_easyun_dev\"\n",
    "DISK = [\n",
    "    {\n",
    "        'DeviceName': '/dev/xvda',\n",
    "        'Ebs': {            \n",
    "            'DeleteOnTermination': True,\n",
    "            'VolumeSize': 16,\n",
    "            'VolumeType': 'gp2'\n",
    "            }\n",
    "    },\n",
    "    {\n",
    "        'DeviceName': '/dev/sdf',\n",
    "        'Ebs': {            \n",
    "            'DeleteOnTermination': True,\n",
    "            'VolumeSize': 13,\n",
    "            'VolumeType': 'gp2'\n",
    "            } \n",
    "    }\n",
    "]\n",
    "\n",
    "TAG_SPEC = [\n",
    "    {\n",
    "    \"ResourceType\":\"instance\",\n",
    "    \"Tags\": [\n",
    "            {\"Key\": \"Flag\", \"Value\": FLAG},\n",
    "            {\"Key\": \"Name\", \"Value\": NAME}\n",
    "        ]\n",
    "    }\n",
    "    ]\n",
    "\n",
    "\n",
    "ec2 = boto3.resource('ec2')\n",
    "server = ec2.create_instances(\n",
    "    ImageId=AMI,\n",
    "    InstanceType=TYPE,\n",
    "    MaxCount=NUM,\n",
    "    MinCount=NUM,\n",
    "    BlockDeviceMappings=[\n",
    "        ,\n",
    "    ],\n",
    "    SubnetId=SUBNET,\n",
    "    SecurityGroupIds=SGs,\n",
    "    KeyName=KEY,\n",
    "    TagSpecifications = TAG_SPEC,    \n",
    "#    Monitoring={'Enabled': False}\n",
    ")\n",
    "#print(server)\n",
    "print(server[0].id, server[0].image.id, server[0].instance_type)\n",
    "# print(server[0].state[\"Name\"])"
   ]
  },
  {
   "cell_type": "code",
   "execution_count": 14,
   "id": "9b6d6796",
   "metadata": {},
   "outputs": [
    {
     "name": "stdout",
     "output_type": "stream",
     "text": [
      "i-0a3ee56a27d528525 t4g.nano 54.174.204.236 running\n"
     ]
    }
   ],
   "source": [
    "# 查询所有新建的测试服务器\n",
    "import boto3\n",
    "\n",
    "REGION = \"us-east-1\"\n",
    "TAG = 'boto3test'\n",
    "RESOURCE = boto3.resource('ec2', region_name=REGION)\n",
    "\n",
    "servers = RESOURCE.instances.filter(\n",
    "    Filters=[\n",
    "#        {'Name': 'instance-state-name', 'Values': ['running']},\n",
    "        {'Name': 'tag:Name','Values': [TAG]}\n",
    "    ])\n",
    "for server in servers:\n",
    "    # print(server)\n",
    "    print(server.id, server.instance_type, server.public_ip_address, server.state[\"Name\"])"
   ]
  },
  {
   "cell_type": "code",
   "execution_count": null,
   "id": "1ac85eab",
   "metadata": {},
   "outputs": [],
   "source": []
  }
 ],
 "metadata": {
  "kernelspec": {
   "display_name": "Python 3 (ipykernel)",
   "language": "python",
   "name": "python3"
  },
  "language_info": {
   "codemirror_mode": {
    "name": "ipython",
    "version": 3
   },
   "file_extension": ".py",
   "mimetype": "text/x-python",
   "name": "python",
   "nbconvert_exporter": "python",
   "pygments_lexer": "ipython3",
   "version": "3.7.10"
  }
 },
 "nbformat": 4,
 "nbformat_minor": 5
}
